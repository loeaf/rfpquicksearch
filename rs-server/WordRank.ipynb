{
 "cells": [
  {
   "cell_type": "code",
   "execution_count": 28,
   "metadata": {},
   "outputs": [],
   "source": [
    "from krwordrank.word import KRWordRank\n",
    "\n",
    "min_count = 2   # 단어의 최소 출현 빈도수 (그래프 생성 시)\n",
    "max_length = 10 # 단어의 최대 길이\n",
    "wordrank_extractor = KRWordRank(min_count=min_count, max_length=max_length)\n",
    "\n",
    "beta = 0.85    # PageRank의 decaying factor beta\n",
    "max_iter = 10\n",
    "texts = ['계약업체는 발주기관으로부터 받은 장비, 서류 및 중간･최종산출물 등 모든 자료를 전량 반납하고 삭제하여야 함',\n",
    "'사업완료 시, 계약 상대자는 사업관련 자료를 보유하고 있지 않으며 이를 위반 시 향후 법적책임이 있음을 포함한 ‘대표자명의 보안확약서’를 작성하여 제출',\n",
    "'정보통신망 구성도, 정보시스템구성도, 용역사업 산출물 및 개인정보 등은 비공개 자료로 분류하여 관리하여야 함',\n",
    "'계약사는 본 사업 관리를 위한 산출물을 추가 요구시에 발주기관에서 요구하는 서식의 형태로 작성하여 제출하여야 함',\n",
    "'「소프트웨어산업진흥법 제22조」에 따라 해당 사업 수주자는 SW 사업정보(SW사업 수행 및 실적 정보) 데이터를 작성하여 제출하여야 함',\n",
    "'SW사업정보 데이터 작성 및 제출에 관한 사항은 www.spir.kr 자료실의 ‘SW사업정보 저장소 데이터 제출 안내’ 문서를 참조토록 함',\n",
    "'SW사업정보 데이터는 사업수행계획서 작성 시 단계별 산출물 리스트에 반드시 명시하도록 함',\n",
    "'공급자는 지식재산권의 활용을 위하여 SW산출물의 반출을 요청할 수 있으며, 발주기관에서는 「보안업무규정」 제4조 및 제안요청서에 명시된 누출금지정보에 해당하지 않을 경우 SW산출물을 제공함. 다만, SW산출물의 활용 절차와 공급자가 SW산출물 활용 절차를 지키지 않는 경우 입찰참가자격 제한 등에 관하여는「소프트웨어사업 관리감독에 관한 일반기준」(과학기술정보정통부 고시) 제14조의2(산출물의 활용)에 따름']"
   ]
  },
  {
   "cell_type": "code",
   "execution_count": 29,
   "metadata": {},
   "outputs": [],
   "source": [
    "beta = 0.85    # PageRank의 decaying factor beta\n",
    "max_iter = 10\n",
    "keywords, rank, graph = wordrank_extractor.extract(texts, beta, max_iter)"
   ]
  },
  {
   "cell_type": "code",
   "execution_count": 30,
   "metadata": {},
   "outputs": [
    {
     "name": "stdout",
     "output_type": "stream",
     "text": [
      "{'활용': 2.760808803741568, 'SW': 2.6036603853535607, '제출': 2.4673597166607317, '작성하여': 2.184527912837262, '데이터': 2.017583190460057, '경우': 1.5523231019187955, '발주기관에서': 1.2871674393658292, '사업': 1.2321525176568908, '자료를': 1.0, '산출물': 0.9549213402359699, '관한': 0.7889189890441186, '계약': 0.7068204097072648, '절차': 0.7010603931773093, '정보': 0.6943604228887865, '관리': 0.6926792353042812, '공급자': 0.6220835324367863, '요구': 0.43318974052759873, '해당': 0.36699781088677996}\n"
     ]
    }
   ],
   "source": [
    "print(keywords)"
   ]
  },
  {
   "cell_type": "code",
   "execution_count": 33,
   "metadata": {},
   "outputs": [
    {
     "name": "stdout",
     "output_type": "stream",
     "text": [
      "['사업완료 시, 계약 상대자는 사업관련 자료를 보유하고 있지 않으며 이를 위반 시 향후 법적책임이 있음을 포함한 ‘대표자명의 보안확약서’를 작성하여 제출', '계약업체는 발주기관으로부터 받은 장비, 서류 및 중간･최종산출물 등 모든 자료를 전량 반납하고 삭제하여야 함', '계약사는 본 사업 관리를 위한 산출물을 추가 요구시에 발주기관에서 요구하는 서식의 형태로 작성하여 제출하여야 함', '계약업체는 발주기관으로부터 받은 장비, 서류 및 중간･최종산출물 등 모든 자료를 전량 반납하고 삭제하여야 함', '「소프트웨어산업진흥법 제22조」에 따라 해당 사업 수주자는 SW 사업정보(SW사업 수행 및 실적 정보) 데이터를 작성하여 제출하여야 함', '계약업체는 발주기관으로부터 받은 장비, 서류 및 중간･최종산출물 등 모든 자료를 전량 반납하고 삭제하여야 함', 'SW사업정보 데이터 작성 및 제출에 관한 사항은 www.spir.kr 자료실의 ‘SW사업정보 저장소 데이터 제출 안내’ 문서를 참조토록 함', '계약업체는 발주기관으로부터 받은 장비, 서류 및 중간･최종산출물 등 모든 자료를 전량 반납하고 삭제하여야 함', 'SW사업정보 데이터는 사업수행계획서 작성 시 단계별 산출물 리스트에 반드시 명시하도록 함', '계약업체는 발주기관으로부터 받은 장비, 서류 및 중간･최종산출물 등 모든 자료를 전량 반납하고 삭제하여야 함']\n"
     ]
    }
   ],
   "source": [
    "penalty=lambda x:0 if (25 <= len(x) <= 80 and not '마지막' in x) else 1,\n",
    "keywords, sents = summarize_with_sentences(\n",
    "    texts,\n",
    "    penalty=penalty,\n",
    "    stopwords = stopwords,\n",
    "    diversity=0.5,\n",
    "    num_keywords=100,\n",
    "    num_keysents=10,\n",
    "    verbose=False\n",
    ")\n",
    "\n",
    "print(sents)"
   ]
  }
 ],
 "metadata": {
  "kernelspec": {
   "display_name": "Python 3",
   "language": "python",
   "name": "python3"
  },
  "language_info": {
   "codemirror_mode": {
    "name": "ipython",
    "version": 3
   },
   "file_extension": ".py",
   "mimetype": "text/x-python",
   "name": "python",
   "nbconvert_exporter": "python",
   "pygments_lexer": "ipython3",
   "version": "3.7.3"
  }
 },
 "nbformat": 4,
 "nbformat_minor": 2
}
