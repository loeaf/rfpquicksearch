{
 "cells": [
  {
   "cell_type": "markdown",
   "metadata": {},
   "source": [
    "# TF - IDF를 이용한 주요 단어 추출"
   ]
  },
  {
   "cell_type": "code",
   "execution_count": 1,
   "metadata": {},
   "outputs": [],
   "source": [
    "import json\n",
    "\n",
    "# with를 이용해 파일을 연다.\n",
    "# json 파일은 같은 폴더에 있다고 가정!\n",
    "\n",
    "arr = []\n",
    "arr.append('제안사는 사업을 기간 내에 완수하기 위해 단계별 추진일정 등이 포함된 일정계획을 제시하여야 착수보고서 제출 사업 진행의 모든 일정이 명시된 사업 일정계획표(WBS)를 함께 제출 발주기관의 승인을 받아야 제안사는 일정계획에 따른 관리방안 체계를 제시하여야 사업수행은 일정에 맞춰서 진행하되 일정이 변경될 경우에는 사전에 발주기관과 협의하여야 최종 선정되어 계약체결된 사업자는 계약일로부터 14일 이내에 계약서, 제안요청서, 제안서, 과업지시서 등을 근거로, 사업을 수행하기 위한 착수계 세부사업추진계획서를 작성·제출하여야 사업자는 사업추진과정에서 생산되는 제반 작업 단위별 산출물에 대하여 작업 일정계획 품질보증계획과 연계하여 산출물의 종류, 주요내용, 작성 제출시기 등을 제시하여야 작성된 보고서에 대한 오류, 미비점 발견 수정 요구 즉시 응해야 하며, 추가 요구가 있을 이에 응하여야 사업의 효율적인 추진을 위해 보고회(착수보고회, 중간보고회, 완료보고회 등), 워크숍 위험관리 방안을 제시하여야')\n",
    "with open('db.json', encoding=\"utf8\") as json_file:\n",
    "    json_data = json.load(json_file)\n",
    "\n",
    "    # key가 json_string인 문자열 가져오기\n",
    "    json_string = json_data[\"rfp\"]\n",
    "    for obj in json_string:\n",
    "        prjId = obj['prjId']\n",
    "        reqDefi = obj['reqDefi']\n",
    "        detInfo = obj['detInfo']\n",
    "        fullNum = obj['fullNum']\n",
    "        reqName = obj['reqName']\n",
    "        type = obj['type']\n",
    "        id = obj['id']\n",
    "        \n",
    "        arr.append(detInfo)\n",
    "# print(arr)\n",
    "\n",
    "# 결과의 Index 0 번째는 기준 Document 나머지는 대비군 Document가 들어감."
   ]
  },
  {
   "cell_type": "code",
   "execution_count": 2,
   "metadata": {},
   "outputs": [
    {
     "name": "stderr",
     "output_type": "stream",
     "text": [
      "C:\\Users\\Daumsoft\\Anaconda3\\lib\\site-packages\\jpype\\_core.py:210: UserWarning: \n",
      "-------------------------------------------------------------------------------\n",
      "Deprecated: convertStrings was not specified when starting the JVM. The default\n",
      "behavior in JPype will be False starting in JPype 0.8. The recommended setting\n",
      "for new code is convertStrings=False.  The legacy value of True was assumed for\n",
      "this session. If you are a user of an application that reported this warning,\n",
      "please file a ticket with the developer.\n",
      "-------------------------------------------------------------------------------\n",
      "\n",
      "  \"\"\")\n"
     ]
    }
   ],
   "source": [
    "from sklearn.feature_extraction.text import TfidfVectorizer\n",
    "from konlpy.tag import Kkma, Twitter\n",
    "from konlpy.utils import pprint\n",
    "\n",
    "kkma = Kkma()\n",
    "\n",
    "mydoclist = arr\n",
    "doc_nouns_list = []\n",
    "for doc in mydoclist:\n",
    "    nouns = kkma.nouns(doc)\n",
    "    doc_nouns_list.append((doc, nouns))"
   ]
  },
  {
   "cell_type": "code",
   "execution_count": 3,
   "metadata": {},
   "outputs": [
    {
     "name": "stdout",
     "output_type": "stream",
     "text": [
      "doc0 : ('제안사는 사업을 기간 내에 완수하기 위해 단계별 추진일정 등이 포함된 일정계획을 제시하여야 착수보고서 제출 사업 진행의 모든 일정이 명시된 사업 일정계획표(WBS)를 함께 제출 발주기관의 승인을 받아야 제안사는 일정계획에 따른 관리방안 체계를 제시하여야 사업수행은 일정에 맞춰서 진행하되 일정이 변경될 경우에는 사전에 발주기관과 협의하여야 최종 선정되어 계약체결된 사업자는 계약일로부터 14일 이내에 계약서, 제안요청서, 제안서, 과업지시서 등을 근거로, 사업을 수행하기 위한 착수계 세부사업추진계획서를 작성·제출하여야 사업자는 사업추진과정에서 생산되는 제반 작업 단위별 산출물에 대하여 작업 일정계획 품질보증계획과 연계하여 산출물의 종류, 주요내용, 작성 제출시기 등을 제시하여야 작성된 보고서에 대한 오류, 미비점 발견 수정 요구 즉시 응해야 하며, 추가 요구가 있을 이에 응하여야 사업의 효율적인 추진을 위해 보고회(착수보고회, 중간보고회, 완료보고회 등), 워크숍 위험관리 방안을 제시하여야', ['제안', '사업', '기간', '내', '완수', '단계별', '추진', '추진일정', '일정', '등', '포함', '일정계획', '계획', '제시', '착수', '착수보고서', '보고서', '제출', '진행', '모든', '명시', '일정계획표', '표', '발주', '발주기관', '기관', '승인', '제안사', '사', '관리', '관리방안', '방안', '체계', '사업수행', '수행', '변경', '경우', '사전', '협의', '최종', '선정', '계약', '계약체결', '체결', '사업자', '계약일로', '일로', '14', '14일', '일', '이내', '계약서', '제안요청서', '요청서', '제안서', '과업', '과업지시서', '지시서', '근거', '세부', '세부사업추진계획서', '계획서', '작성', '사업추진과정', '과정', '생산', '제반', '작업', '단위', '산출물', '품질', '품질보증계획', '보증', '연계', '종류', '주요', '주요내용', '내용', '제출시기', '시기', '오류', '미비점', '발견', '수정', '요구', '즉시', '추가', '효율', '효율적인', '적인', '회', '착수보고회', '보고회', '중간', '중간보고회', '완료', '완료보고회', '워크숍', '위험', '위험관리'])\n"
     ]
    }
   ],
   "source": [
    "print('doc' + str(0) + ' : ' + str(doc_nouns_list[0]))"
   ]
  },
  {
   "cell_type": "code",
   "execution_count": 109,
   "metadata": {},
   "outputs": [
    {
     "name": "stdout",
     "output_type": "stream",
     "text": [
      "\"b'\\\\xec\\\\xa0\\\\x9c\\\\xec\\\\x95\\\\x88,\\\\xec\\\\x82\\\\xac\\\\xec\\\\x97\\\\x85,\\\\xea\\\\xb8\\\\xb0\\\\xea\\\\xb0\\\\x84,\\\\xec\\\\x99\\\\x84\\\\xec\\\\x88\\\\x98,\\\\xeb\\\\x8b\\\\xa8\\\\xea\\\\xb3\\\\x84\\\\xeb\\\\xb3\\\\x84,\\\\xec\\\\xb6\\\\x94\\\\xec\\\\xa7\\\\x84,\\\\xec\\\\xb6\\\\x94\\\\xec\\\\xa7\\\\x84\\\\xec\\\\x9d\\\\xbc\\\\xec\\\\xa0\\\\x95,\\\\xec\\\\x9d\\\\xbc\\\\xec\\\\xa0\\\\x95,\\\\xed\\\\x8f\\\\xac\\\\xed\\\\x95\\\\xa8,\\\\xec\\\\x9d\\\\xbc\\\\xec\\\\xa0\\\\x95\\\\xea\\\\xb3\\\\x84\\\\xed\\\\x9a\\\\x8d,\\\\xea\\\\xb3\\\\x84\\\\xed\\\\x9a\\\\x8d,\\\\xec\\\\xa0\\\\x9c\\\\xec\\\\x8b\\\\x9c,\\\\xec\\\\xb0\\\\xa9\\\\xec\\\\x88\\\\x98,\\\\xec\\\\xb0\\\\xa9\\\\xec\\\\x88\\\\x98\\\\xeb\\\\xb3\\\\xb4\\\\xea\\\\xb3\\\\xa0\\\\xec\\\\x84\\\\x9c,\\\\xeb\\\\xb3\\\\xb4\\\\xea\\\\xb3\\\\xa0\\\\xec\\\\x84\\\\x9c,\\\\xec\\\\xa0\\\\x9c\\\\xec\\\\xb6\\\\x9c,\\\\xec\\\\xa7\\\\x84\\\\xed\\\\x96\\\\x89,\\\\xeb\\\\xaa\\\\xa8\\\\xeb\\\\x93\\\\xa0,\\\\xeb\\\\xaa\\\\x85\\\\xec\\\\x8b\\\\x9c,\\\\xec\\\\x9d\\\\xbc\\\\xec\\\\xa0\\\\x95\\\\xea\\\\xb3\\\\x84\\\\xed\\\\x9a\\\\x8d\\\\xed\\\\x91\\\\x9c,\\\\xeb\\\\xb0\\\\x9c\\\\xec\\\\xa3\\\\xbc,\\\\xeb\\\\xb0\\\\x9c\\\\xec\\\\xa3\\\\xbc\\\\xea\\\\xb8\\\\xb0\\\\xea\\\\xb4\\\\x80,\\\\xea\\\\xb8\\\\xb0\\\\xea\\\\xb4\\\\x80,\\\\xec\\\\x8a\\\\xb9\\\\xec\\\\x9d\\\\xb8,\\\\xec\\\\xa0\\\\x9c\\\\xec\\\\x95\\\\x88\\\\xec\\\\x82\\\\xac,\\\\xea\\\\xb4\\\\x80\\\\xeb\\\\xa6\\\\xac,\\\\xea\\\\xb4\\\\x80\\\\xeb\\\\xa6\\\\xac\\\\xeb\\\\xb0\\\\xa9\\\\xec\\\\x95\\\\x88,\\\\xeb\\\\xb0\\\\xa9\\\\xec\\\\x95\\\\x88,\\\\xec\\\\xb2\\\\xb4\\\\xea\\\\xb3\\\\x84,\\\\xec\\\\x82\\\\xac\\\\xec\\\\x97\\\\x85\\\\xec\\\\x88\\\\x98\\\\xed\\\\x96\\\\x89,\\\\xec\\\\x88\\\\x98\\\\xed\\\\x96\\\\x89,\\\\xeb\\\\xb3\\\\x80\\\\xea\\\\xb2\\\\xbd,\\\\xea\\\\xb2\\\\xbd\\\\xec\\\\x9a\\\\xb0,\\\\xec\\\\x82\\\\xac\\\\xec\\\\xa0\\\\x84,\\\\xed\\\\x98\\\\x91\\\\xec\\\\x9d\\\\x98,\\\\xec\\\\xb5\\\\x9c\\\\xec\\\\xa2\\\\x85,\\\\xec\\\\x84\\\\xa0\\\\xec\\\\xa0\\\\x95,\\\\xea\\\\xb3\\\\x84\\\\xec\\\\x95\\\\xbd,\\\\xea\\\\xb3\\\\x84\\\\xec\\\\x95\\\\xbd\\\\xec\\\\xb2\\\\xb4\\\\xea\\\\xb2\\\\xb0,\\\\xec\\\\xb2\\\\xb4\\\\xea\\\\xb2\\\\xb0,\\\\xec\\\\x82\\\\xac\\\\xec\\\\x97\\\\x85\\\\xec\\\\x9e\\\\x90,\\\\xea\\\\xb3\\\\x84\\\\xec\\\\x95\\\\xbd\\\\xec\\\\x9d\\\\xbc\\\\xeb\\\\xa1\\\\x9c,\\\\xec\\\\x9d\\\\xbc\\\\xeb\\\\xa1\\\\x9c,14,14\\\\xec\\\\x9d\\\\xbc,\\\\xec\\\\x9d\\\\xb4\\\\xeb\\\\x82\\\\xb4,\\\\xea\\\\xb3\\\\x84\\\\xec\\\\x95\\\\xbd\\\\xec\\\\x84\\\\x9c,\\\\xec\\\\xa0\\\\x9c\\\\xec\\\\x95\\\\x88\\\\xec\\\\x9a\\\\x94\\\\xec\\\\xb2\\\\xad\\\\xec\\\\x84\\\\x9c,\\\\xec\\\\x9a\\\\x94\\\\xec\\\\xb2\\\\xad\\\\xec\\\\x84\\\\x9c,\\\\xec\\\\xa0\\\\x9c\\\\xec\\\\x95\\\\x88\\\\xec\\\\x84\\\\x9c,\\\\xea\\\\xb3\\\\xbc\\\\xec\\\\x97\\\\x85,\\\\xea\\\\xb3\\\\xbc\\\\xec\\\\x97\\\\x85\\\\xec\\\\xa7\\\\x80\\\\xec\\\\x8b\\\\x9c\\\\xec\\\\x84\\\\x9c,\\\\xec\\\\xa7\\\\x80\\\\xec\\\\x8b\\\\x9c\\\\xec\\\\x84\\\\x9c,\\\\xea\\\\xb7\\\\xbc\\\\xea\\\\xb1\\\\xb0,\\\\xec\\\\x84\\\\xb8\\\\xeb\\\\xb6\\\\x80,\\\\xec\\\\x84\\\\xb8\\\\xeb\\\\xb6\\\\x80\\\\xec\\\\x82\\\\xac\\\\xec\\\\x97\\\\x85\\\\xec\\\\xb6\\\\x94\\\\xec\\\\xa7\\\\x84\\\\xea\\\\xb3\\\\x84\\\\xed\\\\x9a\\\\x8d\\\\xec\\\\x84\\\\x9c,\\\\xea\\\\xb3\\\\x84\\\\xed\\\\x9a\\\\x8d\\\\xec\\\\x84\\\\x9c,\\\\xec\\\\x9e\\\\x91\\\\xec\\\\x84\\\\xb1,\\\\xec\\\\x82\\\\xac\\\\xec\\\\x97\\\\x85\\\\xec\\\\xb6\\\\x94\\\\xec\\\\xa7\\\\x84\\\\xea\\\\xb3\\\\xbc\\\\xec\\\\xa0\\\\x95,\\\\xea\\\\xb3\\\\xbc\\\\xec\\\\xa0\\\\x95,\\\\xec\\\\x83\\\\x9d\\\\xec\\\\x82\\\\xb0,\\\\xec\\\\xa0\\\\x9c\\\\xeb\\\\xb0\\\\x98,\\\\xec\\\\x9e\\\\x91\\\\xec\\\\x97\\\\x85,\\\\xeb\\\\x8b\\\\xa8\\\\xec\\\\x9c\\\\x84,\\\\xec\\\\x82\\\\xb0\\\\xec\\\\xb6\\\\x9c\\\\xeb\\\\xac\\\\xbc,\\\\xed\\\\x92\\\\x88\\\\xec\\\\xa7\\\\x88,\\\\xed\\\\x92\\\\x88\\\\xec\\\\xa7\\\\x88\\\\xeb\\\\xb3\\\\xb4\\\\xec\\\\xa6\\\\x9d\\\\xea\\\\xb3\\\\x84\\\\xed\\\\x9a\\\\x8d,\\\\xeb\\\\xb3\\\\xb4\\\\xec\\\\xa6\\\\x9d,\\\\xec\\\\x97\\\\xb0\\\\xea\\\\xb3\\\\x84,\\\\xec\\\\xa2\\\\x85\\\\xeb\\\\xa5\\\\x98,\\\\xec\\\\xa3\\\\xbc\\\\xec\\\\x9a\\\\x94,\\\\xec\\\\xa3\\\\xbc\\\\xec\\\\x9a\\\\x94\\\\xeb\\\\x82\\\\xb4\\\\xec\\\\x9a\\\\xa9,\\\\xeb\\\\x82\\\\xb4\\\\xec\\\\x9a\\\\xa9,\\\\xec\\\\xa0\\\\x9c\\\\xec\\\\xb6\\\\x9c\\\\xec\\\\x8b\\\\x9c\\\\xea\\\\xb8\\\\xb0,\\\\xec\\\\x8b\\\\x9c\\\\xea\\\\xb8\\\\xb0,\\\\xec\\\\x98\\\\xa4\\\\xeb\\\\xa5\\\\x98,\\\\xeb\\\\xaf\\\\xb8\\\\xeb\\\\xb9\\\\x84\\\\xec\\\\xa0\\\\x90,\\\\xeb\\\\xb0\\\\x9c\\\\xea\\\\xb2\\\\xac,\\\\xec\\\\x88\\\\x98\\\\xec\\\\xa0\\\\x95,\\\\xec\\\\x9a\\\\x94\\\\xea\\\\xb5\\\\xac,\\\\xec\\\\xa6\\\\x89\\\\xec\\\\x8b\\\\x9c,\\\\xec\\\\xb6\\\\x94\\\\xea\\\\xb0\\\\x80,\\\\xed\\\\x9a\\\\xa8\\\\xec\\\\x9c\\\\xa8,\\\\xed\\\\x9a\\\\xa8\\\\xec\\\\x9c\\\\xa8\\\\xec\\\\xa0\\\\x81\\\\xec\\\\x9d\\\\xb8,\\\\xec\\\\xa0\\\\x81\\\\xec\\\\x9d\\\\xb8,\\\\xec\\\\xb0\\\\xa9\\\\xec\\\\x88\\\\x98\\\\xeb\\\\xb3\\\\xb4\\\\xea\\\\xb3\\\\xa0\\\\xed\\\\x9a\\\\x8c,\\\\xeb\\\\xb3\\\\xb4\\\\xea\\\\xb3\\\\xa0\\\\xed\\\\x9a\\\\x8c,\\\\xec\\\\xa4\\\\x91\\\\xea\\\\xb0\\\\x84,\\\\xec\\\\xa4\\\\x91\\\\xea\\\\xb0\\\\x84\\\\xeb\\\\xb3\\\\xb4\\\\xea\\\\xb3\\\\xa0\\\\xed\\\\x9a\\\\x8c,\\\\xec\\\\x99\\\\x84\\\\xeb\\\\xa3\\\\x8c,\\\\xec\\\\x99\\\\x84\\\\xeb\\\\xa3\\\\x8c\\\\xeb\\\\xb3\\\\xb4\\\\xea\\\\xb3\\\\xa0\\\\xed\\\\x9a\\\\x8c,\\\\xec\\\\x9b\\\\x8c\\\\xed\\\\x81\\\\xac\\\\xec\\\\x88\\\\x8d,\\\\xec\\\\x9c\\\\x84\\\\xed\\\\x97\\\\x98,\\\\xec\\\\x9c\\\\x84\\\\xed\\\\x97\\\\x98\\\\xea\\\\xb4\\\\x80\\\\xeb\\\\xa6\\\\xac'\"\n"
     ]
    }
   ],
   "source": [
    "from sklearn.feature_extraction.text import TfidfVectorizer\n",
    "from konlpy.tag import Kkma, Twitter\n",
    "from konlpy.utils import pprint\n",
    "import re\n",
    "sample_dat = re.findall(r\"[\\w']+\", arr[0])\n",
    "result = ' '.join(sample_dat)\n",
    "\n",
    "kkma = Kkma()\n",
    "\n",
    "mydoclist = arr\n",
    "doc_nouns_list = []\n",
    "for doc in mydoclist:\n",
    "    nouns = kkma.nouns(doc)\n",
    "    doc_nouns_list.append(nouns)\n",
    "nouns_list = ','.join(list(filter(lambda x: len(x) > 1, doc_nouns_list[0])))\n",
    "utfStr = str(nouns_list.encode('utf-8'))\n",
    "print(json.dumps(utfStr))"
   ]
  },
  {
   "cell_type": "code",
   "execution_count": null,
   "metadata": {},
   "outputs": [],
   "source": []
  }
 ],
 "metadata": {
  "kernelspec": {
   "display_name": "Python 3",
   "language": "python",
   "name": "python3"
  },
  "language_info": {
   "codemirror_mode": {
    "name": "ipython",
    "version": 3
   },
   "file_extension": ".py",
   "mimetype": "text/x-python",
   "name": "python",
   "nbconvert_exporter": "python",
   "pygments_lexer": "ipython3",
   "version": "3.7.3"
  }
 },
 "nbformat": 4,
 "nbformat_minor": 2
}
